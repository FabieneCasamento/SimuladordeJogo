{
 "cells": [
  {
   "cell_type": "markdown",
   "id": "b6035827-7a8b-44d9-84a9-1c32ef98cd33",
   "metadata": {},
   "source": [
    "# pesquisa no google"
   ]
  },
  {
   "cell_type": "code",
   "execution_count": 1,
   "id": "803e2bad-3322-46e4-8eb2-2b30b658568e",
   "metadata": {},
   "outputs": [],
   "source": [
    "#https://selenium-python.readthedocs.io/getting-started.html\n",
    "from selenium import webdriver\n",
    "from selenium.webdriver.common.keys import Keys\n",
    "from selenium.webdriver.common.by import By\n",
    "\n",
    "# criar o navegador\n",
    "navegar = webdriver.Chrome()\n",
    "\n",
    "navegar.get('https://www.google.com/')\n",
    "#pesquisar pelo sorteio atual\n",
    "pesquisa =\"sorteio da mega sena\"\n",
    "\n",
    "#um elemento apenas\n",
    "#no site do google, na parte de preencher os dados, ir o inspecionar e copia pelo xpath\n",
    "#colar sempre em aspas simples\n",
    "navegar.find_element('xpath', '//*[@id=\"APjFqb\"]').send_keys(pesquisa,Keys.ENTER)\n",
    "\n",
    "\n"
   ]
  },
  {
   "cell_type": "raw",
   "id": "709f8ad4-83ce-4567-98b0-16ac0dd994cd",
   "metadata": {},
   "source": [
    "<div class=\"TBlP9c\"><div class=\"WCs5ab\"><div class=\"Z30kQd\"><div><div class=\"MDTDab\"><span class=\"zSMazd UHlKbe\" style=\"color:#202124;background-color:#81c995\">03</span><span class=\"zSMazd UHlKbe\" style=\"color:#202124;background-color:#81c995\">07</span><span class=\"zSMazd UHlKbe\" style=\"color:#202124;background-color:#81c995\">11</span><span class=\"zSMazd UHlKbe\" style=\"color:#202124;background-color:#81c995\">35</span><span class=\"zSMazd UHlKbe\" style=\"color:#202124;background-color:#81c995\">38</span><span class=\"zSMazd UHlKbe\" style=\"color:#202124;background-color:#81c995\">56</span></div></div></div><div class=\"vKxALe\"><div class=\"wc3X8d\"><div><span class=\"M1C5je\">Acumulada próximo concurso:</span> <span class=\"br1ue\">R$&nbsp;83.000.000,00</span></div></div></div></div></div>"
   ]
  },
  {
   "cell_type": "code",
   "execution_count": 2,
   "id": "f91828ec-e6e8-4601-b62a-646a9b776dfe",
   "metadata": {},
   "outputs": [
    {
     "name": "stdout",
     "output_type": "stream",
     "text": [
      "030711353856\n",
      "Acumulada próximo concurso: R$ 83.000.000,00\n"
     ]
    }
   ],
   "source": [
    "#pesquisar pelo sorteio\n",
    "#pego a classe que seleciona todos os índices\n",
    "elementos = navegar.find_elements(\"class name\", \"TBlP9c\")\n",
    "\n",
    "for item in elementos:\n",
    "    print(item.text)"
   ]
  },
  {
   "cell_type": "code",
   "execution_count": 3,
   "id": "271670e9-87de-4394-aa81-ada8fb8b19e2",
   "metadata": {},
   "outputs": [
    {
     "name": "stdout",
     "output_type": "stream",
     "text": [
      "030711353856\n",
      "Acumulada próximo concurso: R$ 83.000.000,00\n",
      "None\n"
     ]
    }
   ],
   "source": [
    "#coletar de 2 em 2 \n",
    "for item in elementos:\n",
    "    print(item.text)\n",
    "    lista_valor=item.text\n",
    "    link2=item.get_attribute('TBlP9c')\n",
    "    print(link2)"
   ]
  },
  {
   "cell_type": "code",
   "execution_count": 4,
   "id": "c14874b9-15eb-49ce-879f-b8c5e75f65a4",
   "metadata": {},
   "outputs": [
    {
     "name": "stdout",
     "output_type": "stream",
     "text": [
      "030711353856\n",
      "Acumulada próximo concurso: R$ 83.000.000,00\n",
      "['030711353856', 'Acumulada próximo concurso: R$ 83.000.000,00']\n",
      "valores sorteados\n",
      "03 07 11 35 38 56\n",
      "O que aconteceu: Acumulada próximo concurso: R$ 83.000.000,00\n"
     ]
    }
   ],
   "source": [
    "print(lista_valor)\n",
    "lista_valor_sep= lista_valor.split('\\n')\n",
    "print(lista_valor_sep)\n",
    "print('valores sorteados')\n",
    "print(lista_valor_sep[0][0:2], lista_valor_sep[0][2:4], lista_valor_sep[0][4:6], lista_valor_sep[0][6:8], lista_valor_sep[0][8:10], lista_valor_sep[0][10:12])\n",
    "print(f'O que aconteceu: {lista_valor_sep[1]}')"
   ]
  },
  {
   "cell_type": "raw",
   "id": "28867882-e0a8-4a96-8abf-6f6b6ebfde89",
   "metadata": {},
   "source": [
    "CÓDIGO DO TIPO DE CONCURSO\n",
    "\n",
    "<div class=\"N6Sb2c i29hTd\" aria-level=\"2\" role=\"heading\"><span class=\"GzssTd\"><span>Mega-Sena</span></span><span class=\"kR7nSc\">/</span><span class=\"qLLird\"><span>Concurso 2703 (21/03/24)</span></span></div>\n",
    "\n",
    "<span class=\"GzssTd\"><span>Mega-Sena</span></span>"
   ]
  },
  {
   "cell_type": "code",
   "execution_count": 5,
   "id": "213dba69-f5e3-4b40-889a-83fc11affd4a",
   "metadata": {},
   "outputs": [],
   "source": [
    "#pego a classe, novamente, que seleciona todos os índices\n",
    "elementos_titulo = navegar.find_elements(\"class name\", \"GzssTd\")"
   ]
  },
  {
   "cell_type": "code",
   "execution_count": 6,
   "id": "de00afde-ee71-45e5-9e65-9aa53ec34916",
   "metadata": {},
   "outputs": [
    {
     "name": "stdout",
     "output_type": "stream",
     "text": [
      "Mega-Sena\n"
     ]
    }
   ],
   "source": [
    "for item in elementos_titulo:\n",
    "    print(item.text)\n",
    "    titulo_tipo= item.text"
   ]
  },
  {
   "cell_type": "code",
   "execution_count": 7,
   "id": "610c0bf0-48c0-4a23-b64c-92fad5d94cb3",
   "metadata": {},
   "outputs": [
    {
     "name": "stdout",
     "output_type": "stream",
     "text": [
      "Concurso 2703 (21/03/24)\n"
     ]
    }
   ],
   "source": [
    "#pego a classe, novamente, que seleciona todos os índices\n",
    "elementos_titulo_numeracao = navegar.find_elements(\"class name\", \"qLLird\")\n",
    "for item in elementos_titulo_numeracao:\n",
    "    print(item.text)\n",
    "    numeracao_titulo_concurso= item.text"
   ]
  },
  {
   "cell_type": "code",
   "execution_count": 8,
   "id": "ec46023e-45d7-40a1-b9fc-c23dc0db8b64",
   "metadata": {},
   "outputs": [
    {
     "name": "stdout",
     "output_type": "stream",
     "text": [
      "valores sorteados\n",
      "Mega-Sena ≃> Concurso 2703 (21/03/24)\n",
      "03 07 11 35 38 56\n",
      "O que aconteceu: Acumulada próximo concurso: R$ 83.000.000,00\n"
     ]
    }
   ],
   "source": [
    "print('valores sorteados')\n",
    "print(titulo_tipo,'≃>', numeracao_titulo_concurso)\n",
    "print(lista_valor_sep[0][0:2], lista_valor_sep[0][2:4], lista_valor_sep[0][4:6], lista_valor_sep[0][6:8], lista_valor_sep[0][8:10], lista_valor_sep[0][10:12])\n",
    "print(f'O que aconteceu: {lista_valor_sep[1]}')"
   ]
  },
  {
   "cell_type": "markdown",
   "id": "3f6a6837-6385-45ad-818b-1bbc0fb89673",
   "metadata": {},
   "source": [
    "# outra pesquisa"
   ]
  },
  {
   "cell_type": "code",
   "execution_count": 9,
   "id": "03e5c391-f042-4a62-bc74-24a7a5019e87",
   "metadata": {},
   "outputs": [],
   "source": [
    "navegar.get('https://www.google.com/')\n",
    "#pesquisar pelo sorteio atual\n",
    "pesquisa =\"sorteio da loto fácil\"\n",
    "\n",
    "#um elemento apenas\n",
    "#no site do google, na parte de preencher os dados, ir o inspecionar e copia pelo xpath\n",
    "#colar sempre em aspas simples\n",
    "navegar.find_element('xpath', '//*[@id=\"APjFqb\"]').send_keys(pesquisa,Keys.ENTER)\n"
   ]
  },
  {
   "cell_type": "code",
   "execution_count": 10,
   "id": "857d49d8-eaaf-48c2-bde8-0239be8aad62",
   "metadata": {},
   "outputs": [
    {
     "name": "stdout",
     "output_type": "stream",
     "text": [
      "0204050708\n",
      "1012131417\n",
      "1921222425\n",
      "Acumulada próximo concurso: R$ 1.700.000,00\n"
     ]
    }
   ],
   "source": [
    "#pesquisar pelo sorteio\n",
    "#pego a classe que seleciona todos os índices\n",
    "elementos = navegar.find_elements(\"class name\", \"TBlP9c\")\n",
    "\n",
    "for item in elementos:\n",
    "    print(item.text)\n",
    "    lista_valor_loto= item.text"
   ]
  },
  {
   "cell_type": "code",
   "execution_count": 11,
   "id": "885f1d75-b897-4427-930a-861c0a02f593",
   "metadata": {},
   "outputs": [
    {
     "name": "stdout",
     "output_type": "stream",
     "text": [
      "0204050708\n",
      "1012131417\n",
      "1921222425\n",
      "Acumulada próximo concurso: R$ 1.700.000,00\n",
      "['0204050708', '1012131417', '1921222425', 'Acumulada próximo concurso: R$ 1.700.000,00']\n",
      "valores sorteados\n",
      "02 04 05 07 08 \n",
      "10 12 13 14 17 \n",
      "19 21 22 24 25 \n",
      "O que aconteceu: Acumulada próximo concurso: R$ 1.700.000,00\n"
     ]
    }
   ],
   "source": [
    "print(lista_valor_loto)\n",
    "lista_valor_loto_sep= lista_valor_loto.split('\\n')\n",
    "print(lista_valor_loto_sep)\n",
    "print('valores sorteados')\n",
    "print(lista_valor_loto_sep[0][0:2], lista_valor_loto_sep[0][2:4], lista_valor_loto_sep[0][4:6], lista_valor_loto_sep[0][6:8], lista_valor_loto_sep[0][8:10], lista_valor_loto_sep[0][10:12])\n",
    "print(lista_valor_loto_sep[1][0:2], lista_valor_loto_sep[1][2:4], lista_valor_loto_sep[1][4:6], lista_valor_loto_sep[1][6:8], lista_valor_loto_sep[1][8:10], lista_valor_loto_sep[1][10:12])\n",
    "print(lista_valor_loto_sep[2][0:2], lista_valor_loto_sep[2][2:4], lista_valor_loto_sep[2][4:6], lista_valor_loto_sep[2][6:8], lista_valor_loto_sep[2][8:10], lista_valor_loto_sep[2][10:12])\n",
    "print(f'O que aconteceu: {lista_valor_loto_sep[3]}')"
   ]
  },
  {
   "cell_type": "raw",
   "id": "7342d634-5e2b-47f8-9838-a60afbf9974b",
   "metadata": {},
   "source": [
    "<span class=\"cfBJGe pmZ66\">Informações sobre o prêmio</span>"
   ]
  },
  {
   "cell_type": "code",
   "execution_count": 12,
   "id": "a6d06346-ac46-4002-95a9-77c7c05cd6be",
   "metadata": {},
   "outputs": [],
   "source": [
    "clicar_abrir_resposta = navegar.find_elements(\"class name\", \"cfBJGe pmZ66\")\n",
    "\n",
    "for botao in clicar_abrir_resposta:\n",
    "    \n",
    "    print(botao.text)\n",
    "\n"
   ]
  },
  {
   "cell_type": "code",
   "execution_count": 13,
   "id": "061e973f-3bba-4e84-b5f4-7507a01047b4",
   "metadata": {},
   "outputs": [],
   "source": [
    "import time\n",
    "#xpath\n",
    "ver_resul= navegar.find_element(By.XPATH,'//*[@id=\"tsuid_30\"]/g-more-link/div/span[2]/span[1]')\n",
    "ver_resul.click()\n",
    "time.sleep(5)\n"
   ]
  },
  {
   "cell_type": "raw",
   "id": "8b8cb17d-0d6a-457f-950d-ea4c6a38763f",
   "metadata": {},
   "source": [
    "<tbody><tr class=\"L3XRR q2K6Pe\"><th class=\"DhiO9b\"></th><th>Acertos</th><th>Vencedores</th><th>Prêmio</th></tr><tr class=\"TElGnb\" data-index=\"0\"><td class=\"DhiO9b\"></td><td class=\"KggPSb\">15</td><td>8</td><td>R$&nbsp;658.002,39</td></tr><tr class=\"TElGnb\" data-index=\"1\"><td class=\"DhiO9b\"></td><td class=\"KggPSb\">14</td><td>974</td><td>R$&nbsp;675,07</td></tr><tr class=\"TElGnb\" data-index=\"2\"><td class=\"DhiO9b\"></td><td class=\"KggPSb\">13</td><td>23.482</td><td>R$&nbsp;30,00</td></tr><tr class=\"TElGnb\" data-index=\"3\"><td class=\"DhiO9b\"></td><td class=\"KggPSb\">12</td><td>228.747</td><td>R$&nbsp;12,00</td></tr><tr class=\"TElGnb\" data-index=\"4\"><td class=\"DhiO9b\"></td><td class=\"KggPSb\">11</td><td>1.089.954</td><td>R$&nbsp;6,00</td></tr></tbody>"
   ]
  },
  {
   "cell_type": "code",
   "execution_count": 14,
   "id": "29dd3176-1734-4bcb-b212-bba80b0b9833",
   "metadata": {},
   "outputs": [],
   "source": [
    "elementos_resultados = navegar.find_elements(\"class name\", \"KggPSb\")\n"
   ]
  },
  {
   "cell_type": "code",
   "execution_count": 15,
   "id": "567e4190-5eb4-4b31-8579-7221383c41ff",
   "metadata": {},
   "outputs": [
    {
     "data": {
      "text/plain": [
       "[<selenium.webdriver.remote.webelement.WebElement (session=\"3999aa90820fe5dc909f76539b460a70\", element=\"616C9BD9C35629DD913E209821CAF96E_element_99\")>,\n",
       " <selenium.webdriver.remote.webelement.WebElement (session=\"3999aa90820fe5dc909f76539b460a70\", element=\"616C9BD9C35629DD913E209821CAF96E_element_100\")>,\n",
       " <selenium.webdriver.remote.webelement.WebElement (session=\"3999aa90820fe5dc909f76539b460a70\", element=\"616C9BD9C35629DD913E209821CAF96E_element_101\")>,\n",
       " <selenium.webdriver.remote.webelement.WebElement (session=\"3999aa90820fe5dc909f76539b460a70\", element=\"616C9BD9C35629DD913E209821CAF96E_element_102\")>,\n",
       " <selenium.webdriver.remote.webelement.WebElement (session=\"3999aa90820fe5dc909f76539b460a70\", element=\"616C9BD9C35629DD913E209821CAF96E_element_103\")>]"
      ]
     },
     "execution_count": 15,
     "metadata": {},
     "output_type": "execute_result"
    }
   ],
   "source": [
    "elementos_resultados"
   ]
  },
  {
   "cell_type": "code",
   "execution_count": 16,
   "id": "dcaf8b4a-7ce5-494a-9c74-b0ec3767832f",
   "metadata": {},
   "outputs": [
    {
     "name": "stdout",
     "output_type": "stream",
     "text": [
      "15\n",
      "14\n",
      "13\n",
      "12\n",
      "11\n"
     ]
    }
   ],
   "source": [
    "for item in elementos_resultados:\n",
    "    print(item.text)\n"
   ]
  },
  {
   "cell_type": "code",
   "execution_count": 17,
   "id": "6ab386a8-0d51-4eb9-a387-8928294d6892",
   "metadata": {},
   "outputs": [
    {
     "name": "stdout",
     "output_type": "stream",
     "text": [
      "Lotofácil\n"
     ]
    }
   ],
   "source": [
    "#pego a classe, novamente, que seleciona todos os índices\n",
    "elementos_titulo_loto = navegar.find_elements(\"class name\", \"GzssTd\")\n",
    "for item in elementos_titulo_loto:\n",
    "    print(item.text)\n",
    "    titulo_tipo_loto= item.text"
   ]
  },
  {
   "cell_type": "code",
   "execution_count": 18,
   "id": "d1c7b08f-9dfb-4b70-8a75-29effc8ff27b",
   "metadata": {},
   "outputs": [
    {
     "name": "stdout",
     "output_type": "stream",
     "text": [
      "Concurso 3060 (22/03/24)\n"
     ]
    }
   ],
   "source": [
    "#pego a classe, novamente, que seleciona todos os índices\n",
    "elementos_titulo_numeracao = navegar.find_elements(\"class name\", \"qLLird\")\n",
    "for item in elementos_titulo_numeracao:\n",
    "    print(item.text)\n",
    "    numeracao_titulo_concurso_loto= item.text"
   ]
  },
  {
   "cell_type": "code",
   "execution_count": 19,
   "id": "8008bded-8bf1-417f-86ec-88377352db5a",
   "metadata": {},
   "outputs": [
    {
     "name": "stdout",
     "output_type": "stream",
     "text": [
      "valores sorteados\n",
      "Lotofácil ≃> Concurso 3060 (22/03/24)\n",
      "02 04 05 07 08 \n",
      "10 12 13 14 17 \n",
      "19 21 22 24 25 \n",
      "O que aconteceu: Acumulada próximo concurso: R$ 1.700.000,00\n"
     ]
    }
   ],
   "source": [
    "print('valores sorteados')\n",
    "print(titulo_tipo_loto,'≃>', numeracao_titulo_concurso_loto)\n",
    "print(lista_valor_loto_sep[0][0:2], lista_valor_loto_sep[0][2:4], lista_valor_loto_sep[0][4:6], lista_valor_loto_sep[0][6:8], lista_valor_loto_sep[0][8:10], lista_valor_loto_sep[0][10:12])\n",
    "print(lista_valor_loto_sep[1][0:2], lista_valor_loto_sep[1][2:4], lista_valor_loto_sep[1][4:6], lista_valor_loto_sep[1][6:8], lista_valor_loto_sep[1][8:10], lista_valor_loto_sep[1][10:12])\n",
    "print(lista_valor_loto_sep[2][0:2], lista_valor_loto_sep[2][2:4], lista_valor_loto_sep[2][4:6], lista_valor_loto_sep[2][6:8], lista_valor_loto_sep[2][8:10], lista_valor_loto_sep[2][10:12])\n",
    "print(f'O que aconteceu: {lista_valor_loto_sep[3]}')"
   ]
  },
  {
   "cell_type": "code",
   "execution_count": 20,
   "id": "6c128a12-e16c-4f4e-abca-0c91d9924e70",
   "metadata": {},
   "outputs": [],
   "source": [
    "#coletar a tabela do site, de resultado"
   ]
  },
  {
   "cell_type": "code",
   "execution_count": 21,
   "id": "d5899c62-3df1-4d89-a82a-1dddfe14c871",
   "metadata": {},
   "outputs": [],
   "source": [
    "#xpath\n",
    "element = navegar.find_element(By.XPATH, '//*[@id=\"tsuid_30\"]/span/div/div/div/div/div[2]/div/div[2]/div/table')\n",
    "\n",
    "html_content = element.get_attribute('outerHTML')\n",
    "\n"
   ]
  },
  {
   "cell_type": "code",
   "execution_count": 22,
   "id": "5e49916a-7404-418b-a1fa-3a0b08f7e583",
   "metadata": {},
   "outputs": [
    {
     "data": {
      "text/plain": [
       "'<table class=\"y9lvr\"><tbody><tr class=\"L3XRR q2K6Pe\"><th class=\"DhiO9b\"></th><th>Acertos</th><th>Vencedores</th><th>Prêmio</th></tr><tr class=\"TElGnb\" data-index=\"0\"><td class=\"DhiO9b\"></td><td class=\"KggPSb\">15</td><td>8</td><td>R$&nbsp;658.002,39</td></tr><tr class=\"TElGnb\" data-index=\"1\"><td class=\"DhiO9b\"></td><td class=\"KggPSb\">14</td><td>974</td><td>R$&nbsp;675,07</td></tr><tr class=\"TElGnb\" data-index=\"2\"><td class=\"DhiO9b\"></td><td class=\"KggPSb\">13</td><td>23.482</td><td>R$&nbsp;30,00</td></tr><tr class=\"TElGnb\" data-index=\"3\"><td class=\"DhiO9b\"></td><td class=\"KggPSb\">12</td><td>228.747</td><td>R$&nbsp;12,00</td></tr><tr class=\"TElGnb\" data-index=\"4\"><td class=\"DhiO9b\"></td><td class=\"KggPSb\">11</td><td>1.089.954</td><td>R$&nbsp;6,00</td></tr></tbody></table>'"
      ]
     },
     "execution_count": 22,
     "metadata": {},
     "output_type": "execute_result"
    }
   ],
   "source": [
    "html_content"
   ]
  },
  {
   "cell_type": "code",
   "execution_count": 23,
   "id": "d9eaf874-d706-4e1f-8bc3-45e2528d80f7",
   "metadata": {},
   "outputs": [],
   "source": [
    "import pandas as pd\n",
    "import requests\n",
    "from bs4 import BeautifulSoup\n",
    "    \n",
    "soup = BeautifulSoup(html_content, 'html.parser')\n",
    "table = soup.find_all('table')\n",
    "\n",
    "# Supondo que 'table' seja o seu objeto ResultSet\n",
    "# Extraia o conteúdo HTML da tabela\n",
    "html_content = str(table)\n"
   ]
  },
  {
   "cell_type": "code",
   "execution_count": 24,
   "id": "0a9d5a30-4453-4d8f-bcb2-8343cd2e9232",
   "metadata": {},
   "outputs": [
    {
     "data": {
      "text/plain": [
       "'[<table class=\"y9lvr\"><tbody><tr class=\"L3XRR q2K6Pe\"><th class=\"DhiO9b\"></th><th>Acertos</th><th>Vencedores</th><th>Prêmio</th></tr><tr class=\"TElGnb\" data-index=\"0\"><td class=\"DhiO9b\"></td><td class=\"KggPSb\">15</td><td>8</td><td>R$\\xa0658.002,39</td></tr><tr class=\"TElGnb\" data-index=\"1\"><td class=\"DhiO9b\"></td><td class=\"KggPSb\">14</td><td>974</td><td>R$\\xa0675,07</td></tr><tr class=\"TElGnb\" data-index=\"2\"><td class=\"DhiO9b\"></td><td class=\"KggPSb\">13</td><td>23.482</td><td>R$\\xa030,00</td></tr><tr class=\"TElGnb\" data-index=\"3\"><td class=\"DhiO9b\"></td><td class=\"KggPSb\">12</td><td>228.747</td><td>R$\\xa012,00</td></tr><tr class=\"TElGnb\" data-index=\"4\"><td class=\"DhiO9b\"></td><td class=\"KggPSb\">11</td><td>1.089.954</td><td>R$\\xa06,00</td></tr></tbody></table>]'"
      ]
     },
     "execution_count": 24,
     "metadata": {},
     "output_type": "execute_result"
    }
   ],
   "source": [
    "html_content"
   ]
  },
  {
   "cell_type": "code",
   "execution_count": 25,
   "id": "8d414019-fe58-49b4-a551-44bbf49dc243",
   "metadata": {},
   "outputs": [
    {
     "name": "stderr",
     "output_type": "stream",
     "text": [
      "/tmp/ipykernel_32068/1479970149.py:2: FutureWarning: Passing literal html to 'read_html' is deprecated and will be removed in a future version. To read from a literal string, wrap it in a 'StringIO' object.\n",
      "  df2 = pd.read_html(html_content, flavor='html5lib')\n"
     ]
    },
    {
     "data": {
      "text/plain": [
       "[   Unnamed: 0  Acertos Vencedores         Prêmio\n",
       " 0         NaN       15          8  R$ 658.002,39\n",
       " 1         NaN       14        974      R$ 675,07\n",
       " 2         NaN       13     23.482       R$ 30,00\n",
       " 3         NaN       12    228.747       R$ 12,00\n",
       " 4         NaN       11  1.089.954        R$ 6,00]"
      ]
     },
     "metadata": {},
     "output_type": "display_data"
    }
   ],
   "source": [
    "# Agora, use pd.read_html para ler a tabela\n",
    "df2 = pd.read_html(html_content, flavor='html5lib')\n",
    "display(df2)\n",
    "Basedados = pd.DataFrame(df2[0])\n",
    "    "
   ]
  },
  {
   "cell_type": "code",
   "execution_count": 26,
   "id": "e37de65f-f501-4abe-ba30-5cca350eb6da",
   "metadata": {},
   "outputs": [
    {
     "data": {
      "text/html": [
       "<div>\n",
       "<style scoped>\n",
       "    .dataframe tbody tr th:only-of-type {\n",
       "        vertical-align: middle;\n",
       "    }\n",
       "\n",
       "    .dataframe tbody tr th {\n",
       "        vertical-align: top;\n",
       "    }\n",
       "\n",
       "    .dataframe thead th {\n",
       "        text-align: right;\n",
       "    }\n",
       "</style>\n",
       "<table border=\"1\" class=\"dataframe\">\n",
       "  <thead>\n",
       "    <tr style=\"text-align: right;\">\n",
       "      <th></th>\n",
       "      <th>Unnamed: 0</th>\n",
       "      <th>Acertos</th>\n",
       "      <th>Vencedores</th>\n",
       "      <th>Prêmio</th>\n",
       "    </tr>\n",
       "  </thead>\n",
       "  <tbody>\n",
       "    <tr>\n",
       "      <th>0</th>\n",
       "      <td>NaN</td>\n",
       "      <td>15</td>\n",
       "      <td>8</td>\n",
       "      <td>R$ 658.002,39</td>\n",
       "    </tr>\n",
       "    <tr>\n",
       "      <th>1</th>\n",
       "      <td>NaN</td>\n",
       "      <td>14</td>\n",
       "      <td>974</td>\n",
       "      <td>R$ 675,07</td>\n",
       "    </tr>\n",
       "    <tr>\n",
       "      <th>2</th>\n",
       "      <td>NaN</td>\n",
       "      <td>13</td>\n",
       "      <td>23.482</td>\n",
       "      <td>R$ 30,00</td>\n",
       "    </tr>\n",
       "    <tr>\n",
       "      <th>3</th>\n",
       "      <td>NaN</td>\n",
       "      <td>12</td>\n",
       "      <td>228.747</td>\n",
       "      <td>R$ 12,00</td>\n",
       "    </tr>\n",
       "    <tr>\n",
       "      <th>4</th>\n",
       "      <td>NaN</td>\n",
       "      <td>11</td>\n",
       "      <td>1.089.954</td>\n",
       "      <td>R$ 6,00</td>\n",
       "    </tr>\n",
       "  </tbody>\n",
       "</table>\n",
       "</div>"
      ],
      "text/plain": [
       "   Unnamed: 0  Acertos Vencedores         Prêmio\n",
       "0         NaN       15          8  R$ 658.002,39\n",
       "1         NaN       14        974      R$ 675,07\n",
       "2         NaN       13     23.482       R$ 30,00\n",
       "3         NaN       12    228.747       R$ 12,00\n",
       "4         NaN       11  1.089.954        R$ 6,00"
      ]
     },
     "metadata": {},
     "output_type": "display_data"
    },
    {
     "data": {
      "text/html": [
       "<div>\n",
       "<style scoped>\n",
       "    .dataframe tbody tr th:only-of-type {\n",
       "        vertical-align: middle;\n",
       "    }\n",
       "\n",
       "    .dataframe tbody tr th {\n",
       "        vertical-align: top;\n",
       "    }\n",
       "\n",
       "    .dataframe thead th {\n",
       "        text-align: right;\n",
       "    }\n",
       "</style>\n",
       "<table border=\"1\" class=\"dataframe\">\n",
       "  <thead>\n",
       "    <tr style=\"text-align: right;\">\n",
       "      <th></th>\n",
       "      <th>Acertos</th>\n",
       "      <th>Vencedores</th>\n",
       "      <th>Prêmio</th>\n",
       "    </tr>\n",
       "  </thead>\n",
       "  <tbody>\n",
       "    <tr>\n",
       "      <th>0</th>\n",
       "      <td>15</td>\n",
       "      <td>8</td>\n",
       "      <td>R$ 658.002,39</td>\n",
       "    </tr>\n",
       "    <tr>\n",
       "      <th>1</th>\n",
       "      <td>14</td>\n",
       "      <td>974</td>\n",
       "      <td>R$ 675,07</td>\n",
       "    </tr>\n",
       "    <tr>\n",
       "      <th>2</th>\n",
       "      <td>13</td>\n",
       "      <td>23.482</td>\n",
       "      <td>R$ 30,00</td>\n",
       "    </tr>\n",
       "    <tr>\n",
       "      <th>3</th>\n",
       "      <td>12</td>\n",
       "      <td>228.747</td>\n",
       "      <td>R$ 12,00</td>\n",
       "    </tr>\n",
       "    <tr>\n",
       "      <th>4</th>\n",
       "      <td>11</td>\n",
       "      <td>1.089.954</td>\n",
       "      <td>R$ 6,00</td>\n",
       "    </tr>\n",
       "  </tbody>\n",
       "</table>\n",
       "</div>"
      ],
      "text/plain": [
       "   Acertos Vencedores         Prêmio\n",
       "0       15          8  R$ 658.002,39\n",
       "1       14        974      R$ 675,07\n",
       "2       13     23.482       R$ 30,00\n",
       "3       12    228.747       R$ 12,00\n",
       "4       11  1.089.954        R$ 6,00"
      ]
     },
     "metadata": {},
     "output_type": "display_data"
    }
   ],
   "source": [
    "display(Basedados)\n",
    "Basedados_2= Basedados.drop(['Unnamed: 0'], axis=1)\n",
    "display(Basedados_2)"
   ]
  },
  {
   "cell_type": "code",
   "execution_count": 27,
   "id": "86aa566a-b24f-40cd-82e3-cc741c4c3cd8",
   "metadata": {},
   "outputs": [
    {
     "name": "stdout",
     "output_type": "stream",
     "text": [
      "valores sorteados\n",
      "Lotofácil ≃> Concurso 3060 (22/03/24)\n",
      "02 04 05 07 08 \n",
      "10 12 13 14 17 \n",
      "19 21 22 24 25 \n",
      "O que aconteceu: Acumulada próximo concurso: R$ 1.700.000,00\n"
     ]
    },
    {
     "data": {
      "text/html": [
       "<div>\n",
       "<style scoped>\n",
       "    .dataframe tbody tr th:only-of-type {\n",
       "        vertical-align: middle;\n",
       "    }\n",
       "\n",
       "    .dataframe tbody tr th {\n",
       "        vertical-align: top;\n",
       "    }\n",
       "\n",
       "    .dataframe thead th {\n",
       "        text-align: right;\n",
       "    }\n",
       "</style>\n",
       "<table border=\"1\" class=\"dataframe\">\n",
       "  <thead>\n",
       "    <tr style=\"text-align: right;\">\n",
       "      <th></th>\n",
       "      <th>Acertos</th>\n",
       "      <th>Vencedores</th>\n",
       "      <th>Prêmio</th>\n",
       "    </tr>\n",
       "  </thead>\n",
       "  <tbody>\n",
       "    <tr>\n",
       "      <th>0</th>\n",
       "      <td>15</td>\n",
       "      <td>8</td>\n",
       "      <td>R$ 658.002,39</td>\n",
       "    </tr>\n",
       "    <tr>\n",
       "      <th>1</th>\n",
       "      <td>14</td>\n",
       "      <td>974</td>\n",
       "      <td>R$ 675,07</td>\n",
       "    </tr>\n",
       "    <tr>\n",
       "      <th>2</th>\n",
       "      <td>13</td>\n",
       "      <td>23.482</td>\n",
       "      <td>R$ 30,00</td>\n",
       "    </tr>\n",
       "    <tr>\n",
       "      <th>3</th>\n",
       "      <td>12</td>\n",
       "      <td>228.747</td>\n",
       "      <td>R$ 12,00</td>\n",
       "    </tr>\n",
       "    <tr>\n",
       "      <th>4</th>\n",
       "      <td>11</td>\n",
       "      <td>1.089.954</td>\n",
       "      <td>R$ 6,00</td>\n",
       "    </tr>\n",
       "  </tbody>\n",
       "</table>\n",
       "</div>"
      ],
      "text/plain": [
       "   Acertos Vencedores         Prêmio\n",
       "0       15          8  R$ 658.002,39\n",
       "1       14        974      R$ 675,07\n",
       "2       13     23.482       R$ 30,00\n",
       "3       12    228.747       R$ 12,00\n",
       "4       11  1.089.954        R$ 6,00"
      ]
     },
     "metadata": {},
     "output_type": "display_data"
    }
   ],
   "source": [
    "print('valores sorteados')\n",
    "print(titulo_tipo_loto,'≃>', numeracao_titulo_concurso_loto)\n",
    "print(lista_valor_loto_sep[0][0:2], lista_valor_loto_sep[0][2:4], lista_valor_loto_sep[0][4:6], lista_valor_loto_sep[0][6:8], lista_valor_loto_sep[0][8:10], lista_valor_loto_sep[0][10:12])\n",
    "print(lista_valor_loto_sep[1][0:2], lista_valor_loto_sep[1][2:4], lista_valor_loto_sep[1][4:6], lista_valor_loto_sep[1][6:8], lista_valor_loto_sep[1][8:10], lista_valor_loto_sep[1][10:12])\n",
    "print(lista_valor_loto_sep[2][0:2], lista_valor_loto_sep[2][2:4], lista_valor_loto_sep[2][4:6], lista_valor_loto_sep[2][6:8], lista_valor_loto_sep[2][8:10], lista_valor_loto_sep[2][10:12])\n",
    "print(f'O que aconteceu: {lista_valor_loto_sep[3]}')\n",
    "display(Basedados_2)"
   ]
  },
  {
   "cell_type": "code",
   "execution_count": null,
   "id": "8952b91e-43e1-4eac-b9a4-ca5b3201a180",
   "metadata": {},
   "outputs": [],
   "source": []
  }
 ],
 "metadata": {
  "kernelspec": {
   "display_name": "Python 3 (ipykernel)",
   "language": "python",
   "name": "python3"
  },
  "language_info": {
   "codemirror_mode": {
    "name": "ipython",
    "version": 3
   },
   "file_extension": ".py",
   "mimetype": "text/x-python",
   "name": "python",
   "nbconvert_exporter": "python",
   "pygments_lexer": "ipython3",
   "version": "3.9.18"
  }
 },
 "nbformat": 4,
 "nbformat_minor": 5
}
