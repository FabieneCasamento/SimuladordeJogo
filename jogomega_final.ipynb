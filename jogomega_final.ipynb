{
 "cells": [
  {
   "cell_type": "markdown",
   "id": "f0799a1e",
   "metadata": {},
   "source": [
    "Simulador de jogos de loteria, em python. Com os números simples da Mega Sena, e quantos jogos de 6 dígitos quiser fazer um uma única vez.  "
   ]
  },
  {
   "cell_type": "code",
   "execution_count": 8,
   "id": "769f15ab",
   "metadata": {},
   "outputs": [
    {
     "name": "stdout",
     "output_type": "stream",
     "text": [
      "Quantos jogos você quer gerar? 3\n",
      "Jogo 1: [9, 21, 22, 37, 39, 52]\n",
      "Jogo 2: [14, 19, 24, 43, 56, 60]\n",
      "Jogo 3: [3, 10, 14, 32, 35, 59]\n",
      "[3, 10, 14, 32, 35, 59]\n",
      "\n",
      "[[9, 21, 22, 37, 39, 52], [14, 19, 24, 43, 56, 60], [3, 10, 14, 32, 35, 59]]\n",
      "\n",
      "Custo total das 3 apostas foram de: R$:15,00\n"
     ]
    }
   ],
   "source": [
    "import random\n",
    "\n",
    "def gerar_numeros_loto_mega(qtd_numeros=6, min_numero=1, max_numero=60):\n",
    "    return sorted(random.sample(range(min_numero, max_numero + 1), qtd_numeros))\n",
    "\n",
    "def main():\n",
    "    qtd_jogos_mega = int(input(\"Quantos jogos você quer gerar? \"))\n",
    "    jogos_gerados = []\n",
    "    conta_repeticoes = 0\n",
    "    \n",
    "    while len(jogos_gerados) < qtd_jogos_mega:\n",
    "        numeros = gerar_numeros_loto_mega()\n",
    "        \n",
    "        if numeros in jogos_gerados:\n",
    "            conta_repeticoes += 1\n",
    "            print(f'Jogo repetido {conta_repeticoes} vezes: {numeros}')\n",
    "        else:\n",
    "            jogos_gerados.append(numeros)\n",
    "            print(f\"Jogo {len(jogos_gerados)}: {numeros}\")\n",
    "   # print(numeros)\n",
    "    print()\n",
    "   # print(jogos_gerados)\n",
    "    \n",
    "    valor_total= qtd_jogos_mega*5.00\n",
    "    print()\n",
    "    print('Custo total das {:,} apostas foram de: R$:{:,.2f}'.format(qtd_jogos_mega,valor_total).replace('.',','))\n",
    "\n",
    "if __name__ == \"__main__\":\n",
    "    main()\n"
   ]
  },
  {
   "cell_type": "code",
   "execution_count": null,
   "id": "3ef300c6",
   "metadata": {},
   "outputs": [],
   "source": []
  }
 ],
 "metadata": {
  "kernelspec": {
   "display_name": "Python 3 (ipykernel)",
   "language": "python",
   "name": "python3"
  },
  "language_info": {
   "codemirror_mode": {
    "name": "ipython",
    "version": 3
   },
   "file_extension": ".py",
   "mimetype": "text/x-python",
   "name": "python",
   "nbconvert_exporter": "python",
   "pygments_lexer": "ipython3",
   "version": "3.9.7"
  }
 },
 "nbformat": 4,
 "nbformat_minor": 5
}
